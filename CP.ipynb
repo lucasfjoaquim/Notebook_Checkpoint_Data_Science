{
 "cells": [
  {
   "cell_type": "code",
   "execution_count": null,
   "metadata": {},
   "outputs": [],
   "source": [
    "pip install pandas numpy matplotlib seaborn"
   ]
  },
  {
   "cell_type": "code",
   "execution_count": null,
   "metadata": {},
   "outputs": [],
   "source": [
    "import pandas as pd\n",
    "import numpy as np\n",
    "import matplotlib.pyplot as plt\n",
    "import seaborn as sns"
   ]
  },
  {
   "cell_type": "code",
   "execution_count": null,
   "metadata": {},
   "outputs": [],
   "source": [
    "survey = pd.read_csv(\"CP1 Stack Overflow Database.csv\")\n",
    "print(survey)"
   ]
  },
  {
   "cell_type": "code",
   "execution_count": null,
   "metadata": {},
   "outputs": [],
   "source": [
    "numeric_columns = survey.select_dtypes(include=['int', 'float','int64','float64']).columns\n",
    "num_numeric_columns = len(numeric_columns)\n",
    "print(f\"{num_numeric_columns} são colunas numericas no DF survey\")\n",
    "mem_usage_mb = survey.memory_usage(deep=True).sum() / (1024 * 1024)\n",
    "print(f\"{mem_usage_mb} MBs no DF survey\")"
   ]
  },
  {
   "cell_type": "code",
   "execution_count": null,
   "metadata": {},
   "outputs": [],
   "source": [
    "survey_new = survey[['MainBranch', 'Age', 'Employment', 'RemoteWork', 'EdLevel',\n",
    "                 'DevType', 'OrgSize', 'Country', 'ConvertedCompYearly',\n",
    "                 'WorkExp', 'Industry']]\n",
    "print(survey_new)"
   ]
  },
  {
   "cell_type": "code",
   "execution_count": null,
   "metadata": {},
   "outputs": [],
   "source": [
    "numeric_columns = survey_new.select_dtypes(include=['int', 'float','int64','float64']).columns\n",
    "print(f\"{num_numeric_columns} são colunas numericas no DF survey_new\")\n",
    "mem_usage_mb = survey_new.memory_usage(deep=True).sum() / (1024 * 1024)\n",
    "print(f\"{mem_usage_mb} MBs no DF survey_new\")"
   ]
  },
  {
   "cell_type": "code",
   "execution_count": null,
   "metadata": {},
   "outputs": [],
   "source": [
    "# Calculando a média\n",
    "media = survey_new['ConvertedCompYearly'].mean()\n",
    "\n",
    "# Calculando a mediana\n",
    "mediana = survey_new['ConvertedCompYearly'].median()\n",
    "\n",
    "# Calculando o desvio padrão\n",
    "desvio_padrao = survey_new['ConvertedCompYearly'].std()\n",
    "\n",
    "# Calculando o valor máximo\n",
    "maximo = survey_new['ConvertedCompYearly'].max()\n",
    "\n",
    "# Calculando o valor mínimo\n",
    "minimo = survey_new['ConvertedCompYearly'].min()\n",
    "\n",
    "# Exibindo os resultados\n",
    "print(\"Média:\", media)\n",
    "print(\"Mediana:\", mediana)\n",
    "print(\"Desvio Padrão:\", desvio_padrao)\n",
    "print(\"Valor Máximo:\", maximo)\n",
    "print(\"Valor Mínimo:\", minimo)"
   ]
  },
  {
   "cell_type": "code",
   "execution_count": null,
   "metadata": {},
   "outputs": [],
   "source": [
    "q1 = survey_new['ConvertedCompYearly'].quantile(0.25)\n",
    "\n",
    "# Calculando o terceiro quartil (Q3)\n",
    "q3 = survey_new['ConvertedCompYearly'].quantile(0.75)\n",
    "\n",
    "# Calculando o IQR\n",
    "iqr = q3 - q1\n",
    "\n",
    "# Calculando os limites para identificar outliers\n",
    "limite_inferior = q1 - 1.5 * iqr\n",
    "limite_superior = q3 + 1.5 * iqr\n",
    "\n",
    "# Exibindo os limites\n",
    "print(\"Limite Inferior:\", limite_inferior)\n",
    "print(\"Limite Superior:\", limite_superior)"
   ]
  },
  {
   "cell_type": "code",
   "execution_count": null,
   "metadata": {},
   "outputs": [],
   "source": [
    "outliers = survey_new[(survey_new['ConvertedCompYearly'] > limite_superior) | (survey_new['ConvertedCompYearly'] < limite_inferior)]\n",
    "\n",
    "# Contando o número de observações que são outliers\n",
    "numero_de_outliers = outliers.shape[0]\n",
    "\n",
    "print(\"Número de observações que são outliers:\", numero_de_outliers)"
   ]
  },
  {
   "cell_type": "code",
   "execution_count": null,
   "metadata": {},
   "outputs": [],
   "source": [
    "contagem_formato_hibrido = (survey_new['RemoteWork'] == 'Hybrid (some remote, some in-person)').sum()\n",
    "contagem_formato_remoto = (survey_new['RemoteWork'] == 'Remote').sum()\n",
    "contagem_formato_presencial = (survey_new['RemoteWork'].isna()).sum()\n",
    "\n",
    "# Calculando o total de respondentes\n",
    "total_respondentes = survey_new['RemoteWork'].count()\n",
    "\n",
    "# Calculando a porcentagem de cada categoria\n",
    "porcentagem_formato_hibrido = (contagem_formato_hibrido / total_respondentes) * 100\n",
    "porcentagem_formato_remoto = (contagem_formato_remoto / total_respondentes) * 100\n",
    "porcentagem_formato_presencial = (contagem_formato_presencial / total_respondentes) * 100\n",
    "\n",
    "print(\"Porcentagem de respondentes que trabalham no formato híbrido:\", porcentagem_formato_hibrido, \"%\")\n",
    "print(\"Porcentagem de respondentes que trabalham no formato remoto:\", porcentagem_formato_remoto, \"%\")\n",
    "print(\"Porcentagem de respondentes que trabalham no formato presencial:\", porcentagem_formato_presencial, \"%\")"
   ]
  },
  {
   "cell_type": "code",
   "execution_count": null,
   "metadata": {},
   "outputs": [],
   "source": [
    "# Agrupando os respondentes pela coluna 'RemoteWork'\n",
    "grupos_remote_work = survey_new.groupby('RemoteWork')\n",
    "\n",
    "# Calculando a média e mediana da remuneração 'ConvertedCompYearly' para cada grupo\n",
    "media_remuneracao = grupos_remote_work['ConvertedCompYearly'].mean()\n",
    "mediana_remuneracao = grupos_remote_work['ConvertedCompYearly'].median()\n",
    "\n",
    "# Exibindo os resultados\n",
    "print(\"Média da remuneração anual por formato de trabalho:\")\n",
    "print(media_remuneracao)\n",
    "print(\"\\nMediana da remuneração anual por formato de trabalho:\")\n",
    "print(mediana_remuneracao)"
   ]
  },
  {
   "cell_type": "code",
   "execution_count": null,
   "metadata": {},
   "outputs": [],
   "source": [
    "num_setores_unicos = survey_new['Industry'].nunique()\n",
    "\n",
    "print(\"Número de setores únicos na coluna 'Industry':\", num_setores_unicos)"
   ]
  },
  {
   "cell_type": "code",
   "execution_count": null,
   "metadata": {},
   "outputs": [],
   "source": [
    "# Filtrando o dataframe original para incluir apenas os países desejados\n",
    "countries = ['United States of America', 'United Kingdom of Great Britain and Northern Ireland', 'Canada']\n",
    "survey_country = survey[survey['Country'].isin(countries)]\n",
    "print(survey_country)\n",
    "\n",
    "# Calculando a média e o desvio padrão da variável 'ConvertedCompYearly' para cada país\n",
    "country_stats = survey_country.groupby('Country')['ConvertedCompYearly'].agg(['mean', 'std'])\n",
    "\n",
    "# Imprimindo as estatísticas para todos os países\n",
    "print(\"Estatísticas salariais por país:\")\n",
    "print(country_stats)\n",
    "\n",
    "# Obtendo o número de observações no dataframe para cada país\n",
    "num_observations_per_country = survey_country['Country'].value_counts()\n",
    "\n",
    "# Imprimindo o número de observações para cada país\n",
    "print(\"\\nNúmero de observações por país:\")\n",
    "print(num_observations_per_country)\n",
    "\n",
    "# Encontrando o país com a maior média de salários\n",
    "max_mean_country = country_stats['mean'].idxmax()\n",
    "max_mean_salary = country_stats.loc[max_mean_country, 'mean']\n",
    "\n",
    "# Encontrando o país com o maior desvio padrão entre os salários\n",
    "max_std_country = country_stats['std'].idxmax()\n",
    "max_std_salary = country_stats.loc[max_std_country, 'std']\n",
    "\n",
    "# Imprimindo os resultados\n",
    "print(\"\\nPaís com a maior média de salários:\", max_mean_country)\n",
    "print(\"Média de salários neste país:\", max_mean_salary)\n",
    "print(\"País com o maior desvio padrão entre os salários:\", max_std_country)\n",
    "print(\"Desvio padrão de salários neste país:\", max_std_salary)"
   ]
  },
  {
   "cell_type": "code",
   "execution_count": null,
   "metadata": {},
   "outputs": [],
   "source": [
    "# Calcular a porcentagem de cada formato de trabalho\n",
    "porcentagem_hibrido = (survey_country['RemoteWork'] == 'Hybrid').mean() * 100\n",
    "porcentagem_remoto = (survey_country['RemoteWork'] == 'Remote').mean() * 100\n",
    "porcentagem_presencial = (survey_country['RemoteWork'] == 'Onsite').mean() * 100\n",
    "\n",
    "print(\"Porcentagem de trabalhadores no formato híbrido:\", porcentagem_hibrido)\n",
    "print(\"Porcentagem de trabalhadores no formato remoto:\", porcentagem_remoto)\n",
    "print(\"Porcentagem de trabalhadores no formato presencial:\", porcentagem_presencial)\n",
    "\n",
    "# Calcular a porcentagem de trabalhadores remotos no dataframe principal\n",
    "porcentagem_remoto_survey_new = (survey_new['RemoteWork'] == 'Remote').mean() * 100\n",
    "\n",
    "# Calcular a porcentagem de trabalhadores remotos no dataframe 'survey_country'\n",
    "porcentagem_remoto_survey_country = (survey_country['RemoteWork'] == 'Remote').mean() * 100\n",
    "\n",
    "# Comparar as porcentagens\n",
    "if porcentagem_remoto_survey_new > porcentagem_remoto_survey_country:\n",
    "    print(\"Há mais trabalhadores remotos no dataframe principal 'survey_new'.\")\n",
    "elif porcentagem_remoto_survey_new < porcentagem_remoto_survey_country:\n",
    "    print(\"Há mais trabalhadores remotos nos países selecionados no novo dataframe 'survey_country'.\")\n",
    "else:\n",
    "    print(\"A porcentagem de trabalhadores remotos é a mesma nos dois dataframes.\")"
   ]
  },
  {
   "cell_type": "code",
   "execution_count": null,
   "metadata": {},
   "outputs": [],
   "source": [
    "# Filtro para manter apenas as observações nas indústrias especificadas\n",
    "industries_of_interest = ['Information Services, IT, Software Development, or other Technology',\n",
    "                          'Financial Services',\n",
    "                          'Insurance']\n",
    "survey_country_ind = survey_country[survey_country['Industry'].isin(industries_of_interest)]\n",
    "print(survey_country_ind)\n",
    "\n",
    "# Calcular o salário médio por país e por indústria\n",
    "salario_medio_por_pais_industria = survey_country_ind.groupby(['Country', 'Industry'])['ConvertedCompYearly'].mean()\n",
    "\n",
    "# Encontrar o país e a indústria com a maior média salarial\n",
    "maior_salario_medio = salario_medio_por_pais_industria.idxmax()\n",
    "maior_salario_medio_valor = salario_medio_por_pais_industria.max()\n",
    "\n",
    "# Encontrar o país e a indústria com a menor média salarial\n",
    "menor_salario_medio = salario_medio_por_pais_industria.idxmin()\n",
    "menor_salario_medio_valor = salario_medio_por_pais_industria.min()\n",
    "\n",
    "# Imprimir os resultados\n",
    "print(\"Na indústria de\", maior_salario_medio[1], \"do país\", maior_salario_medio[0], \"está a maior média salarial:\", maior_salario_medio_valor)\n",
    "print(\"Na indústria de\", menor_salario_medio[1], \"do país\", menor_salario_medio[0], \"está a menor média salarial:\", menor_salario_medio_valor)"
   ]
  },
  {
   "cell_type": "code",
   "execution_count": null,
   "metadata": {},
   "outputs": [],
   "source": [
    "# Calcular a média de anos de experiência por indústria\n",
    "media_experiencia_por_industria = survey_country_ind.groupby('Industry')['WorkExp'].mean()\n",
    "\n",
    "# Encontrar a indústria com mais experiência\n",
    "industria_mais_experiencia = media_experiencia_por_industria.idxmax()\n",
    "maior_experiencia = media_experiencia_por_industria.max()\n",
    "\n",
    "# Encontrar a indústria com menos experiência\n",
    "industria_menos_experiencia = media_experiencia_por_industria.idxmin()\n",
    "menor_experiencia = media_experiencia_por_industria.min()\n",
    "\n",
    "# Imprimir os resultados\n",
    "print(\"Média de anos de experiência para cada indústria:\")\n",
    "print(media_experiencia_por_industria)\n",
    "print(\"\\nNa indústria de\", industria_mais_experiencia, \"estão os desenvolvedores com mais experiência, com uma média de\", maior_experiencia, \"anos.\")\n",
    "print(\"Na indústria de\", industria_menos_experiencia, \"estão os desenvolvedores com menos experiência, com uma média de\", menor_experiencia, \"anos.\")"
   ]
  },
  {
   "cell_type": "code",
   "execution_count": null,
   "metadata": {},
   "outputs": [],
   "source": [
    "\n",
    "sns.set_style('whitegrid')\n",
    "\n",
    "# Criar o histograma\n",
    "plt.figure(figsize=(10, 6))\n",
    "sns.histplot(data=survey_country_ind, x='WorkExp', bins=20, kde=True)\n",
    "plt.title('Histograma de Experiência de Trabalho')\n",
    "plt.xlabel('Anos de Experiência')\n",
    "plt.ylabel('Contagem')\n",
    "plt.show()"
   ]
  },
  {
   "cell_type": "code",
   "execution_count": null,
   "metadata": {},
   "outputs": [],
   "source": [
    "# Mapeamento de cores para as categorias de 'Industry'\n",
    "cores = {'Information Services, IT, Software Development, or other Technology': 'blue',\n",
    "         'Financial Services': 'green',\n",
    "         'Insurance': 'red'}\n",
    "\n",
    "# Criar o gráfico de dispersão\n",
    "plt.figure(figsize=(12, 8))\n",
    "\n",
    "# Iterar sobre as categorias de 'Industry' e plotar cada uma separadamente\n",
    "for industry, color in cores.items():\n",
    "    data = survey_country_ind[survey_country_ind['Industry'] == industry]\n",
    "    plt.scatter(x=data['Country'], y=data['ConvertedCompYearly'], c=color, label=industry)\n",
    "\n",
    "# Adicionar rótulo aos eixos\n",
    "plt.xlabel('Country')\n",
    "plt.ylabel('ConvertedCompYearly')\n",
    "\n",
    "# Rotacionar os nomes no eixo x em 90 graus\n",
    "plt.xticks(rotation=90)\n",
    "\n",
    "# Limitar os valores do eixo y\n",
    "plt.ylim(-10000, 1500000)\n",
    "\n",
    "# Adicionar legenda\n",
    "plt.legend(title='Industry')\n",
    "\n",
    "# Adicionar título ao gráfico\n",
    "plt.title('Gráfico de Dispersão: ConvertedCompYearly vs Country')\n",
    "\n",
    "# Exibir o gráfico\n",
    "plt.show()"
   ]
  },
  {
   "cell_type": "code",
   "execution_count": 27,
   "metadata": {},
   "outputs": [
    {
     "data": {
      "image/png": "[encoded data removed]",
      "text/plain": [
       "<Figure size 1200x800 with 1 Axes>"
      ]
     },
     "metadata": {},
     "output_type": "display_data"
    }
   ],
   "source": [
    "# Definir o estilo do gráfico\n",
    "sns.set_style('whitegrid')\n",
    "\n",
    "# Criar o boxplot\n",
    "plt.figure(figsize=(12, 8))\n",
    "\n",
    "# Criar o boxplot usando seaborn com a paleta 'viridis' e definir hue='Country'\n",
    "sns.boxplot(data=survey_country_ind, x='Country', y='ConvertedCompYearly', hue='Country', legend=False)\n",
    "\n",
    "# Rotacionar os nomes no eixo x em 90 graus\n",
    "plt.xticks(rotation=90)\n",
    "\n",
    "# Limitar os valores do eixo y\n",
    "plt.ylim(-10000, 1500000)\n",
    "\n",
    "# Adicionar rótulo aos eixos\n",
    "plt.xlabel('Country')\n",
    "plt.ylabel('ConvertedCompYearly')\n",
    "\n",
    "# Adicionar título ao gráfico\n",
    "plt.title('Boxplot: ConvertedCompYearly vs Country')\n",
    "\n",
    "# Exibir o gráfico\n",
    "plt.show()"
   ]
  },
  {
   "cell_type": "code",
   "execution_count": null,
   "metadata": {},
   "outputs": [],
   "source": [
    "# Definir o estilo do gráfico\n",
    "sns.set_style('whitegrid')\n",
    "\n",
    "# Criar o countplot\n",
    "plt.figure(figsize=(12, 6))\n",
    "countplot = sns.countplot(data=survey_country_ind, x='OrgSize', hue='OrgSize', palette='viridis', legend=False)\n",
    "\n",
    "# Rotacionar os rótulos do eixo x em 90 graus\n",
    "plt.xticks(rotation=90)\n",
    "\n",
    "# Adicionar rótulo aos eixos\n",
    "plt.xlabel('OrgSize')\n",
    "plt.ylabel('Contagem')\n",
    "\n",
    "# Adicionar título ao gráfico\n",
    "plt.title('Contagem de OrgSize')\n",
    "\n",
    "# Exibir o gráfico\n",
    "plt.show()\n",
    "\n",
    "orgsize_counts = survey_country_ind['OrgSize'].value_counts()\n",
    "tamanho_preditominante = orgsize_counts.idxmax()\n",
    "print(\"O tamanho das empresas predominante é:\", tamanho_preditominante)"
   ]
  },
  {
   "cell_type": "code",
   "execution_count": null,
   "metadata": {},
   "outputs": [],
   "source": [
    "sns.set_style('whitegrid')\n",
    "\n",
    "# Criar o violinplot\n",
    "plt.figure(figsize=(12, 8))\n",
    "violinplot = sns.violinplot(data=survey_country_ind, x='RemoteWork', y='WorkExp', hue='RemoteWork', palette='viridis', split=True)\n",
    "\n",
    "# Rotacionar os nomes no eixo x em 90 graus\n",
    "plt.xticks(rotation=90)\n",
    "\n",
    "# Adicionar rótulo aos eixos\n",
    "plt.xlabel('RemoteWork')\n",
    "plt.ylabel('WorkExp')\n",
    "\n",
    "# Adicionar título ao gráfico\n",
    "plt.title('Violinplot: WorkExp vs RemoteWork')\n",
    "\n",
    "# Exibir o gráfico\n",
    "plt.show()"
   ]
  }
 ],
 "metadata": {
  "kernelspec": {
   "display_name": "Python 3",
   "language": "python",
   "name": "python3"
  },
  "language_info": {
   "codemirror_mode": {
    "name": "ipython",
    "version": 3
   },
   "file_extension": ".py",
   "mimetype": "text/x-python",
   "name": "python",
   "nbconvert_exporter": "python",
   "pygments_lexer": "ipython3",
   "version": "3.11.9"
  }
 },
 "nbformat": 4,
 "nbformat_minor": 2
}
